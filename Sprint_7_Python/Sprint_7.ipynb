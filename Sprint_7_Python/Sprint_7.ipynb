{
 "cells": [
  {
   "cell_type": "markdown",
   "metadata": {},
   "source": [
    "<div style=\"color: magenta; font-family: Arial; font-size: 20px; font-weight: bold;\">\n",
    "    Nivel 1\n",
    "</div>\n",
    "<br>\n",
    "<div style=\"color: magenta; font-family: Arial; font-size: 16px; font-weight: bold;\">\n",
    "    Ejercicio 1\n",
    "</div>\n",
    "\n",
    "Calculadora de l'índex de massa corporal\n",
    "\n",
    "Escriu una funció que calculi l'IMC ingressat per l'usuari/ària, és a dir, qui ho executi haurà d'ingressar aquestes dades.\n",
    "\n",
    "-> Índice de masa corporal IMC que es y como se calcula:\n",
    "\n",
    "https://muysalud.com/salud/indice-de-masa-corporal-imc-que-es-y-como-se-calcula/\n",
    "\n",
    "La funció ha de classificar el resultat en les seves respectives categories"
   ]
  },
  {
   "cell_type": "markdown",
   "metadata": {},
   "source": [
    "1. Definimos una función (calcular_imc) y le incorporamos los parámetros: peso y altura.\n",
    "2. Definimos la formula para el imc\n",
    "3. Estableecemos las categorias del imc con un condicional\n",
    "4. Con return y f-string (formato de string, que es una forma de insertar variables dentro de un texto), le decimos que nos pase el resultado con solo 2 decimales. Y además, añado información de todas las categorias como referencia."
   ]
  },
  {
   "cell_type": "code",
   "execution_count": null,
   "metadata": {},
   "outputs": [],
   "source": [
    "def calcular_imc(peso, altura):\n",
    "   \n",
    "    # Cálculo del IMC\n",
    "    imc = peso / (altura ** 2)\n",
    "    \n",
    "    # Clasificación del IMC\n",
    "    if imc < 18.5:\n",
    "        categoria = \"Bajo peso\"\n",
    "    elif 18.5 <= imc < 24.9:\n",
    "        categoria = \"Peso normal\"\n",
    "    elif 25 <= imc < 29.9:\n",
    "        categoria = \"Sobrepeso\"\n",
    "    else:\n",
    "        categoria = \"Obesidad\"\n",
    "      \n",
    "      \n",
    "# Añado información del resto de las categorias\n",
    "    categorias_orientativas = \"\"\"\n",
    "    Categorías orientativas:\n",
    "    - Bajo peso: menos de 18.5\n",
    "    - Peso normal: 18.5 - 24.9\n",
    "    - Sobrepeso: 25 - 29.9\n",
    "    - Obesidad: más de 30\n",
    "    \"\"\"\n",
    "    \n",
    "    # Retornar el IMC, la clasificación y las categorías orientativas\n",
    "    return f\"Tu IMC es {imc:.2f}, y estás clasificado como: {categoria}\\n{categorias_orientativas}\""
   ]
  },
  {
   "cell_type": "markdown",
   "metadata": {},
   "source": [
    "Aquí más abajo, definimos como pedir los datos para calcular el IMC.\n",
    "\n",
    "El formato de los datos deberá ser tipo float y con punto decimal en lugar de coma. Si el usuario introduce un valor incorrecto (por ejemplo, usando una coma en lugar de un punto o un valor que no sea numérico), se mostrará un mensaje de error y volverá a pedir el dato en el formato correcto.  \n",
    "Lo hacemos con try-except, que es una estructura para manejar errores.  \n",
    "Y con while True, que es un bucle infinito que se repite siempre, a menos que uses break para salir del bucle.\n"
   ]
  },
  {
   "cell_type": "code",
   "execution_count": null,
   "metadata": {},
   "outputs": [],
   "source": [
    "# Pedir los datos\n",
    "while True:\n",
    "    try:\n",
    "        peso = float(input(\"Introduce tu peso en Kgs (usa el punto como decimal, ej. 60.7): \"))\n",
    "        break\n",
    "    except ValueError:\n",
    "        print(\"Formato erróneo: Introduce tu peso con un número válido (usa el punto como decimal, ej. 60.7)\")\n",
    "\n",
    "while True:\n",
    "    try:\n",
    "        altura = float(input(\"Introduce tu altura en metros (usa punto como decimal, ej. 1.65): \"))\n",
    "        break\n",
    "    except ValueError:\n",
    "        print(\"Formato erróneo: Introduce tu altura con un número válido (usa punto como decimal, ej. 1.65)\")\n",
    "\n",
    "# Llamar a la función e imprimir el resultado\n",
    "resultado = calcular_imc(peso, altura)\n",
    "print(resultado)"
   ]
  },
  {
   "cell_type": "markdown",
   "metadata": {},
   "source": [
    "<div style=\"color: magenta; font-family: Arial; font-size: 16px; font-weight: bold;\">\n",
    "    Ejercicio 2\n",
    "</div>\n",
    "\n",
    "Convertidor de temperatures.\n",
    "\n",
    "Existeixen diverses unitats de temperatura utilitzades en diferents contextos i regions. Les més comunes són Celsius (°C), Fahrenheit (°F) i Kelvin (K). També existeixen altres unitats com Rankine (°Ra) i Réaumur (°Re). Selecciona almenys 2 conversors, de tal manera que en introduir una temperatura retorni, com a mínim, dues conversions."
   ]
  }
 ],
 "metadata": {
  "kernelspec": {
   "display_name": "Python 3",
   "language": "python",
   "name": "python3"
  },
  "language_info": {
   "codemirror_mode": {
    "name": "ipython",
    "version": 3
   },
   "file_extension": ".py",
   "mimetype": "text/x-python",
   "name": "python",
   "nbconvert_exporter": "python",
   "pygments_lexer": "ipython3",
   "version": "3.12.5"
  }
 },
 "nbformat": 4,
 "nbformat_minor": 2
}
