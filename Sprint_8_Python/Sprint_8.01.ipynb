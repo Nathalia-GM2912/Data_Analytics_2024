{
 "cells": [
  {
   "cell_type": "markdown",
   "metadata": {},
   "source": [
    "<div style=\"color: magenta; font-family: Arial; font-size: 26px; font-weight: bold;\">\n",
    "    Sprint 8.01\n",
    "</div>\n",
    "<br>\n",
    "\n",
    "**Visualitzacions en Python**\n",
    "<br>\n",
    "<br>"
   ]
  },
  {
   "cell_type": "markdown",
   "metadata": {},
   "source": [
    "<div style=\"color: magenta; font-family: Arial; font-size: 20px; font-weight: bold;\">\n",
    "    Nivel 1\n",
    "</div>\n",
    "<br>\n",
    "Realitza la connexió en Python amb el MySQL Workbench per a carregar tota la informació que tens en les taules.\n",
    "\n",
    "Realitzaràs una visualització per a cada exercici. Comenta el que et crida l'atenció de graficar aquesta variable, justifica l'elecció del gràfic i interpreta els resultats en funció de les teves dades."
   ]
  },
  {
   "cell_type": "markdown",
   "metadata": {},
   "source": [
    "*Pasos:*\n",
    "\n",
    "1. Conectar Python y MySQL Workbench: Se ejecuta el comando \"pip install mysql-connector-python\" para instalar el conector \"mysql-connector-python\". \n",
    "2. Establecemos una conexion con la base de datos atraves de una función en python logramos extraer de forma innata las tablas y datos según el orden de origen, el mismo codigo provee el cierre de conexión para segurar el consumo adicional de recursos."
   ]
  },
  {
   "cell_type": "code",
   "execution_count": 1,
   "metadata": {},
   "outputs": [
    {
     "name": "stdout",
     "output_type": "stream",
     "text": [
      "Connected to MySQL Server version  8.0.39\n",
      "You're connected to database:  ('sprint4',)\n",
      "MySQL connection is closed\n"
     ]
    }
   ],
   "source": [
    "import mysql.connector\n",
    "from mysql.connector import Error\n",
    "\n",
    "try:\n",
    "    connection = mysql.connector.connect(host='localhost',\n",
    "                                         database='sprint4',\n",
    "                                         user='root',\n",
    "                                         password='7829')\n",
    "    if connection.is_connected():\n",
    "        db_Info = connection.get_server_info()\n",
    "        print(\"Connected to MySQL Server version \", db_Info)\n",
    "        cursor = connection.cursor()\n",
    "        cursor.execute(\"select database();\")\n",
    "        record = cursor.fetchone()\n",
    "        print(\"You're connected to database: \", record)\n",
    "\n",
    "except Error as e:\n",
    "    print(\"Error while connecting to MySQL\", e)\n",
    "finally:\n",
    "    if connection.is_connected():\n",
    "        cursor.close()\n",
    "        connection.close()\n",
    "        print(\"MySQL connection is closed\")\n"
   ]
  },
  {
   "cell_type": "markdown",
   "metadata": {},
   "source": [
    "3. Instalamos las librerías en la terminal y las importamos:  \n",
    "\n",
    "pip install pandas  \n",
    "pip install numpy  \n",
    "pip install seaborn  \n",
    "pip install matplotlib  \n",
    "pip install sqlalchemy"
   ]
  },
  {
   "cell_type": "code",
   "execution_count": 2,
   "metadata": {},
   "outputs": [],
   "source": [
    "# Importamos las liberías:\n",
    "\n",
    "import pandas as pd\n",
    "import numpy as np\n",
    "import seaborn as sns\n",
    "import matplotlib.pyplot as plt\n",
    "import sqlalchemy \n"
   ]
  },
  {
   "cell_type": "code",
   "execution_count": 3,
   "metadata": {},
   "outputs": [
    {
     "name": "stdout",
     "output_type": "stream",
     "text": [
      "DataFrame: df_card_status\n",
      "DataFrame: df_companies\n",
      "DataFrame: df_credit_cards\n",
      "DataFrame: df_products\n",
      "DataFrame: df_transaction_products\n",
      "DataFrame: df_transactions\n",
      "DataFrame: df_users\n"
     ]
    }
   ],
   "source": [
    "# Importamos las tablas:\n",
    "import mysql.connector\n",
    "db = mysql.connector.connect(host='localhost',\n",
    "                            database='sprint4',\n",
    "                            user='root',\n",
    "                            password='7829')\n",
    "\n",
    "\n",
    "def load_table_to_dataframe(db, cursor, table_name):             # Cargo c/tabla en un Pandas DataFrame.                                                     \n",
    "    try:\n",
    "        df = pd.DataFrame()                                      # Creo un DataFrame vacío para la tabla\n",
    "        cursor.execute(f\"SELECT * FROM {table_name}\")            # Ejecuto la consulta para extraer tablas\n",
    "        column_names = [col[0] for col in cursor.description]    # Obtengo los nombres de las columnas\n",
    "        data = cursor.fetchall()\n",
    "        data_list = []                                           # Convierto los datos a un formato Dataframe\n",
    "        for row in data:\n",
    "            data_list.append(list(row))\n",
    "        df = pd.DataFrame(data_list, columns=column_names)       # Creo el DataFrame (datos y nombres de columnas)\n",
    "        return df\n",
    "    except Exception as e:\n",
    "        print(f\"Error loading table '{table_name}':\", e)\n",
    "        return None\n",
    "\n",
    "cursor = db.cursor()\n",
    "cursor.execute(\"SHOW TABLES\")\n",
    "tables = [tabla[0] for tabla in cursor.fetchall()]\n",
    "\n",
    "for table_name in tables:\n",
    "    df_name = f\"df_{table_name.lower()}\"  # Convierto el nombre de la tabla a minúsculas con prefijo 'df_'\n",
    "    df = load_table_to_dataframe(db, cursor, table_name)\n",
    "    if df is None:\n",
    "        continue\n",
    "\n",
    "    globals()[df_name] = df  # Creo una variable global con el nombre dinámico y configuro en el DataFrame\n",
    "    print(f\"DataFrame: {df_name}\")  # Imprimo el nombre del DataFrame\n",
    "    \n",
    "cursor.close()  # Desconexión\n",
    "db.close()\n"
   ]
  },
  {
   "cell_type": "code",
   "execution_count": 37,
   "metadata": {},
   "outputs": [
    {
     "name": "stdout",
     "output_type": "stream",
     "text": [
      "<class 'pandas.core.frame.DataFrame'>\n",
      "RangeIndex: 100 entries, 0 to 99\n",
      "Data columns (total 6 columns):\n",
      " #   Column        Non-Null Count  Dtype \n",
      "---  ------        --------------  ----- \n",
      " 0   id            100 non-null    object\n",
      " 1   product_name  100 non-null    object\n",
      " 2   price         100 non-null    object\n",
      " 3   colour        100 non-null    object\n",
      " 4   weight        100 non-null    object\n",
      " 5   warehouse_id  100 non-null    object\n",
      "dtypes: object(6)\n",
      "memory usage: 4.8+ KB\n"
     ]
    }
   ],
   "source": [
    "# Para verificar si los datos están cargados, verifico la estructura de 'products':\n",
    "\n",
    "df_products.info()"
   ]
  },
  {
   "cell_type": "code",
   "execution_count": 54,
   "metadata": {},
   "outputs": [
    {
     "data": {
      "text/html": [
       "<div>\n",
       "<style scoped>\n",
       "    .dataframe tbody tr th:only-of-type {\n",
       "        vertical-align: middle;\n",
       "    }\n",
       "\n",
       "    .dataframe tbody tr th {\n",
       "        vertical-align: top;\n",
       "    }\n",
       "\n",
       "    .dataframe thead th {\n",
       "        text-align: right;\n",
       "    }\n",
       "</style>\n",
       "<table border=\"1\" class=\"dataframe\">\n",
       "  <thead>\n",
       "    <tr style=\"text-align: right;\">\n",
       "      <th></th>\n",
       "      <th>id</th>\n",
       "      <th>product_name</th>\n",
       "      <th>price</th>\n",
       "      <th>colour</th>\n",
       "      <th>weight</th>\n",
       "      <th>warehouse_id</th>\n",
       "    </tr>\n",
       "  </thead>\n",
       "  <tbody>\n",
       "    <tr>\n",
       "      <th>0</th>\n",
       "      <td>1</td>\n",
       "      <td>Direwolf Stannis</td>\n",
       "      <td>161.11</td>\n",
       "      <td>#7c7c7c</td>\n",
       "      <td>1</td>\n",
       "      <td>WH-4</td>\n",
       "    </tr>\n",
       "    <tr>\n",
       "      <th>1</th>\n",
       "      <td>10</td>\n",
       "      <td>Karstark Dorne</td>\n",
       "      <td>119.52</td>\n",
       "      <td>#f4f4f4</td>\n",
       "      <td>2.4</td>\n",
       "      <td>WH--5</td>\n",
       "    </tr>\n",
       "    <tr>\n",
       "      <th>2</th>\n",
       "      <td>100</td>\n",
       "      <td>south duel</td>\n",
       "      <td>40.43</td>\n",
       "      <td>#6d6d6d</td>\n",
       "      <td>3</td>\n",
       "      <td>WH--95</td>\n",
       "    </tr>\n",
       "    <tr>\n",
       "      <th>3</th>\n",
       "      <td>11</td>\n",
       "      <td>Karstark Dorne</td>\n",
       "      <td>49.70</td>\n",
       "      <td>#141414</td>\n",
       "      <td>2.7</td>\n",
       "      <td>WH--6</td>\n",
       "    </tr>\n",
       "    <tr>\n",
       "      <th>4</th>\n",
       "      <td>12</td>\n",
       "      <td>duel Direwolf</td>\n",
       "      <td>181.60</td>\n",
       "      <td>#a8a8a8</td>\n",
       "      <td>2.1</td>\n",
       "      <td>WH--7</td>\n",
       "    </tr>\n",
       "    <tr>\n",
       "      <th>...</th>\n",
       "      <td>...</td>\n",
       "      <td>...</td>\n",
       "      <td>...</td>\n",
       "      <td>...</td>\n",
       "      <td>...</td>\n",
       "      <td>...</td>\n",
       "    </tr>\n",
       "    <tr>\n",
       "      <th>95</th>\n",
       "      <td>95</td>\n",
       "      <td>riverlands north Direwolf</td>\n",
       "      <td>6.90</td>\n",
       "      <td>#c1c1c1</td>\n",
       "      <td>2.7</td>\n",
       "      <td>WH--90</td>\n",
       "    </tr>\n",
       "    <tr>\n",
       "      <th>96</th>\n",
       "      <td>96</td>\n",
       "      <td>dooku solo</td>\n",
       "      <td>20.92</td>\n",
       "      <td>#282828</td>\n",
       "      <td>2.1</td>\n",
       "      <td>WH--91</td>\n",
       "    </tr>\n",
       "    <tr>\n",
       "      <th>97</th>\n",
       "      <td>97</td>\n",
       "      <td>jinn Winterfell</td>\n",
       "      <td>65.25</td>\n",
       "      <td>#bababa</td>\n",
       "      <td>1</td>\n",
       "      <td>WH--92</td>\n",
       "    </tr>\n",
       "    <tr>\n",
       "      <th>98</th>\n",
       "      <td>98</td>\n",
       "      <td>Direwolf Littlefinger</td>\n",
       "      <td>38.33</td>\n",
       "      <td>#bababa</td>\n",
       "      <td>2</td>\n",
       "      <td>WH--93</td>\n",
       "    </tr>\n",
       "    <tr>\n",
       "      <th>99</th>\n",
       "      <td>99</td>\n",
       "      <td>the duel</td>\n",
       "      <td>151.78</td>\n",
       "      <td>#212121</td>\n",
       "      <td>1.5</td>\n",
       "      <td>WH--94</td>\n",
       "    </tr>\n",
       "  </tbody>\n",
       "</table>\n",
       "<p>100 rows × 6 columns</p>\n",
       "</div>"
      ],
      "text/plain": [
       "     id               product_name   price   colour weight warehouse_id\n",
       "0     1           Direwolf Stannis  161.11  #7c7c7c      1         WH-4\n",
       "1    10             Karstark Dorne  119.52  #f4f4f4    2.4        WH--5\n",
       "2   100                 south duel   40.43  #6d6d6d      3       WH--95\n",
       "3    11             Karstark Dorne   49.70  #141414    2.7        WH--6\n",
       "4    12              duel Direwolf  181.60  #a8a8a8    2.1        WH--7\n",
       "..  ...                        ...     ...      ...    ...          ...\n",
       "95   95  riverlands north Direwolf    6.90  #c1c1c1    2.7       WH--90\n",
       "96   96                 dooku solo   20.92  #282828    2.1       WH--91\n",
       "97   97            jinn Winterfell   65.25  #bababa      1       WH--92\n",
       "98   98      Direwolf Littlefinger   38.33  #bababa      2       WH--93\n",
       "99   99                   the duel  151.78  #212121    1.5       WH--94\n",
       "\n",
       "[100 rows x 6 columns]"
      ]
     },
     "execution_count": 54,
     "metadata": {},
     "output_type": "execute_result"
    }
   ],
   "source": [
    "# Probando visualizaciones\n",
    "\n",
    "df_products"
   ]
  },
  {
   "cell_type": "code",
   "execution_count": 38,
   "metadata": {},
   "outputs": [
    {
     "name": "stdout",
     "output_type": "stream",
     "text": [
      "<class 'pandas.core.frame.DataFrame'>\n",
      "RangeIndex: 587 entries, 0 to 586\n",
      "Data columns (total 10 columns):\n",
      " #   Column       Non-Null Count  Dtype         \n",
      "---  ------       --------------  -----         \n",
      " 0   id           587 non-null    object        \n",
      " 1   card_id      587 non-null    object        \n",
      " 2   business_id  587 non-null    object        \n",
      " 3   timestamp    587 non-null    datetime64[ns]\n",
      " 4   amount       587 non-null    object        \n",
      " 5   declined     587 non-null    int64         \n",
      " 6   product_ids  587 non-null    object        \n",
      " 7   user_id      587 non-null    int64         \n",
      " 8   lat          587 non-null    float64       \n",
      " 9   longitude    587 non-null    float64       \n",
      "dtypes: datetime64[ns](1), float64(2), int64(2), object(5)\n",
      "memory usage: 46.0+ KB\n"
     ]
    }
   ],
   "source": [
    "# Resumen de la estructura de 'transactions':\n",
    "\n",
    "df_transactions.info()"
   ]
  },
  {
   "cell_type": "code",
   "execution_count": 51,
   "metadata": {},
   "outputs": [
    {
     "data": {
      "text/html": [
       "<div>\n",
       "<style scoped>\n",
       "    .dataframe tbody tr th:only-of-type {\n",
       "        vertical-align: middle;\n",
       "    }\n",
       "\n",
       "    .dataframe tbody tr th {\n",
       "        vertical-align: top;\n",
       "    }\n",
       "\n",
       "    .dataframe thead th {\n",
       "        text-align: right;\n",
       "    }\n",
       "</style>\n",
       "<table border=\"1\" class=\"dataframe\">\n",
       "  <thead>\n",
       "    <tr style=\"text-align: right;\">\n",
       "      <th></th>\n",
       "      <th>id</th>\n",
       "      <th>transaction_id</th>\n",
       "      <th>product_id</th>\n",
       "    </tr>\n",
       "  </thead>\n",
       "  <tbody>\n",
       "    <tr>\n",
       "      <th>0</th>\n",
       "      <td>1</td>\n",
       "      <td>2F499B4D-4DC7-B337-010D-8B7471812A80</td>\n",
       "      <td>1</td>\n",
       "    </tr>\n",
       "    <tr>\n",
       "      <th>1</th>\n",
       "      <td>2</td>\n",
       "      <td>6ADF86D5-DD32-BC6F-D157-8C836F5BEF67</td>\n",
       "      <td>1</td>\n",
       "    </tr>\n",
       "    <tr>\n",
       "      <th>2</th>\n",
       "      <td>3</td>\n",
       "      <td>D3470F3E-9683-799A-40F1-E42C143BAC5A</td>\n",
       "      <td>1</td>\n",
       "    </tr>\n",
       "    <tr>\n",
       "      <th>3</th>\n",
       "      <td>4</td>\n",
       "      <td>EAE19DC1-C847-6D79-673D-00E7696AC336</td>\n",
       "      <td>1</td>\n",
       "    </tr>\n",
       "    <tr>\n",
       "      <th>4</th>\n",
       "      <td>5</td>\n",
       "      <td>CDCDE7A5-39CD-9ABD-59D5-71641582C825</td>\n",
       "      <td>1</td>\n",
       "    </tr>\n",
       "  </tbody>\n",
       "</table>\n",
       "</div>"
      ],
      "text/plain": [
       "   id                        transaction_id product_id\n",
       "0   1  2F499B4D-4DC7-B337-010D-8B7471812A80          1\n",
       "1   2  6ADF86D5-DD32-BC6F-D157-8C836F5BEF67          1\n",
       "2   3  D3470F3E-9683-799A-40F1-E42C143BAC5A          1\n",
       "3   4  EAE19DC1-C847-6D79-673D-00E7696AC336          1\n",
       "4   5  CDCDE7A5-39CD-9ABD-59D5-71641582C825          1"
      ]
     },
     "execution_count": 51,
     "metadata": {},
     "output_type": "execute_result"
    }
   ],
   "source": [
    "# Primeras filas de 'transaction_products':\n",
    "\n",
    "df_transaction_products.head()"
   ]
  },
  {
   "cell_type": "markdown",
   "metadata": {},
   "source": [
    "<div style=\"color: magenta; font-family: Arial; font-size: 20px; font-weight: bold;\">\n",
    "    Nivel 1\n",
    "</div>\n",
    "<br>\n",
    "<div style=\"color: magenta; font-family: Arial; font-size: 16px; font-weight: bold;\">\n",
    "    Ejercicio 1\n",
    "</div>\n",
    "\n",
    "**Una variable numèrica**"
   ]
  },
  {
   "cell_type": "code",
   "execution_count": null,
   "metadata": {},
   "outputs": [
    {
     "data": {
      "image/png": "[encoded data removed]",
      "text/plain": [
       "<Figure size 800x500 with 1 Axes>"
      ]
     },
     "metadata": {},
     "output_type": "display_data"
    }
   ],
   "source": [
    "\n",
    "df_histogram = df_transactions[df_transactions['declined'] == 0]\n",
    "amount = df_histogram['amount']\n",
    "\n",
    "plt.figure(figsize=(8, 5))\n",
    "sns.histplot(data=amount)\n",
    "\n",
    "plt.title(\"Distribución de frecuencias del monto de las transacciones\", fontsize=15)\n",
    "plt.xlabel('Monto de transacción', fontsize=14)        \n",
    "plt.ylabel('Número de transacciones', fontsize=14)          \n",
    "mean_value = amount.mean()                                 \n",
    "plt.axvline(mean_value, color='red', linestyle='--', linewidth=2)             \n",
    "plt.text(mean_value + 10, 60, f'Promedio: {mean_value:.2f}', color='red')   \n",
    "plt.xticks(rotation=45, ha='center')\n",
    "\n",
    "plt.show()"
   ]
  },
  {
   "cell_type": "code",
   "execution_count": 57,
   "metadata": {},
   "outputs": [
    {
     "ename": "KeyError",
     "evalue": "'date'",
     "output_type": "error",
     "traceback": [
      "\u001b[1;31m---------------------------------------------------------------------------\u001b[0m",
      "\u001b[1;31mKeyError\u001b[0m                                  Traceback (most recent call last)",
      "File \u001b[1;32mc:\\Users\\Nathalia\\AppData\\Local\\Programs\\Python\\Python313\\Lib\\site-packages\\pandas\\core\\indexes\\base.py:3805\u001b[0m, in \u001b[0;36mIndex.get_loc\u001b[1;34m(self, key)\u001b[0m\n\u001b[0;32m   3804\u001b[0m \u001b[38;5;28;01mtry\u001b[39;00m:\n\u001b[1;32m-> 3805\u001b[0m     \u001b[38;5;28;01mreturn\u001b[39;00m \u001b[38;5;28;43mself\u001b[39;49m\u001b[38;5;241;43m.\u001b[39;49m\u001b[43m_engine\u001b[49m\u001b[38;5;241;43m.\u001b[39;49m\u001b[43mget_loc\u001b[49m\u001b[43m(\u001b[49m\u001b[43mcasted_key\u001b[49m\u001b[43m)\u001b[49m\n\u001b[0;32m   3806\u001b[0m \u001b[38;5;28;01mexcept\u001b[39;00m \u001b[38;5;167;01mKeyError\u001b[39;00m \u001b[38;5;28;01mas\u001b[39;00m err:\n",
      "File \u001b[1;32mindex.pyx:167\u001b[0m, in \u001b[0;36mpandas._libs.index.IndexEngine.get_loc\u001b[1;34m()\u001b[0m\n",
      "File \u001b[1;32mindex.pyx:196\u001b[0m, in \u001b[0;36mpandas._libs.index.IndexEngine.get_loc\u001b[1;34m()\u001b[0m\n",
      "File \u001b[1;32mpandas\\\\_libs\\\\hashtable_class_helper.pxi:7081\u001b[0m, in \u001b[0;36mpandas._libs.hashtable.PyObjectHashTable.get_item\u001b[1;34m()\u001b[0m\n",
      "File \u001b[1;32mpandas\\\\_libs\\\\hashtable_class_helper.pxi:7089\u001b[0m, in \u001b[0;36mpandas._libs.hashtable.PyObjectHashTable.get_item\u001b[1;34m()\u001b[0m\n",
      "\u001b[1;31mKeyError\u001b[0m: 'date'",
      "\nThe above exception was the direct cause of the following exception:\n",
      "\u001b[1;31mKeyError\u001b[0m                                  Traceback (most recent call last)",
      "Cell \u001b[1;32mIn[57], line 6\u001b[0m\n\u001b[0;32m      3\u001b[0m \u001b[38;5;28;01mimport\u001b[39;00m \u001b[38;5;21;01mseaborn\u001b[39;00m \u001b[38;5;28;01mas\u001b[39;00m \u001b[38;5;21;01msns\u001b[39;00m\n\u001b[0;32m      5\u001b[0m \u001b[38;5;66;03m# Asegúrate de que la columna de fecha esté en formato datetime\u001b[39;00m\n\u001b[1;32m----> 6\u001b[0m df_transactions[\u001b[38;5;124m'\u001b[39m\u001b[38;5;124mdate\u001b[39m\u001b[38;5;124m'\u001b[39m] \u001b[38;5;241m=\u001b[39m pd\u001b[38;5;241m.\u001b[39mto_datetime(\u001b[43mdf_transactions\u001b[49m\u001b[43m[\u001b[49m\u001b[38;5;124;43m'\u001b[39;49m\u001b[38;5;124;43mdate\u001b[39;49m\u001b[38;5;124;43m'\u001b[39;49m\u001b[43m]\u001b[49m)\n\u001b[0;32m      8\u001b[0m \u001b[38;5;66;03m# Agrupa las transacciones por fecha y cuenta el número de transacciones por día\u001b[39;00m\n\u001b[0;32m      9\u001b[0m transacciones_por_fecha \u001b[38;5;241m=\u001b[39m df_transactions\u001b[38;5;241m.\u001b[39mgroupby(df_transactions[\u001b[38;5;124m'\u001b[39m\u001b[38;5;124mdate\u001b[39m\u001b[38;5;124m'\u001b[39m]\u001b[38;5;241m.\u001b[39mdt\u001b[38;5;241m.\u001b[39mdate)\u001b[38;5;241m.\u001b[39msize()\n",
      "File \u001b[1;32mc:\\Users\\Nathalia\\AppData\\Local\\Programs\\Python\\Python313\\Lib\\site-packages\\pandas\\core\\frame.py:4102\u001b[0m, in \u001b[0;36mDataFrame.__getitem__\u001b[1;34m(self, key)\u001b[0m\n\u001b[0;32m   4100\u001b[0m \u001b[38;5;28;01mif\u001b[39;00m \u001b[38;5;28mself\u001b[39m\u001b[38;5;241m.\u001b[39mcolumns\u001b[38;5;241m.\u001b[39mnlevels \u001b[38;5;241m>\u001b[39m \u001b[38;5;241m1\u001b[39m:\n\u001b[0;32m   4101\u001b[0m     \u001b[38;5;28;01mreturn\u001b[39;00m \u001b[38;5;28mself\u001b[39m\u001b[38;5;241m.\u001b[39m_getitem_multilevel(key)\n\u001b[1;32m-> 4102\u001b[0m indexer \u001b[38;5;241m=\u001b[39m \u001b[38;5;28;43mself\u001b[39;49m\u001b[38;5;241;43m.\u001b[39;49m\u001b[43mcolumns\u001b[49m\u001b[38;5;241;43m.\u001b[39;49m\u001b[43mget_loc\u001b[49m\u001b[43m(\u001b[49m\u001b[43mkey\u001b[49m\u001b[43m)\u001b[49m\n\u001b[0;32m   4103\u001b[0m \u001b[38;5;28;01mif\u001b[39;00m is_integer(indexer):\n\u001b[0;32m   4104\u001b[0m     indexer \u001b[38;5;241m=\u001b[39m [indexer]\n",
      "File \u001b[1;32mc:\\Users\\Nathalia\\AppData\\Local\\Programs\\Python\\Python313\\Lib\\site-packages\\pandas\\core\\indexes\\base.py:3812\u001b[0m, in \u001b[0;36mIndex.get_loc\u001b[1;34m(self, key)\u001b[0m\n\u001b[0;32m   3807\u001b[0m     \u001b[38;5;28;01mif\u001b[39;00m \u001b[38;5;28misinstance\u001b[39m(casted_key, \u001b[38;5;28mslice\u001b[39m) \u001b[38;5;129;01mor\u001b[39;00m (\n\u001b[0;32m   3808\u001b[0m         \u001b[38;5;28misinstance\u001b[39m(casted_key, abc\u001b[38;5;241m.\u001b[39mIterable)\n\u001b[0;32m   3809\u001b[0m         \u001b[38;5;129;01mand\u001b[39;00m \u001b[38;5;28many\u001b[39m(\u001b[38;5;28misinstance\u001b[39m(x, \u001b[38;5;28mslice\u001b[39m) \u001b[38;5;28;01mfor\u001b[39;00m x \u001b[38;5;129;01min\u001b[39;00m casted_key)\n\u001b[0;32m   3810\u001b[0m     ):\n\u001b[0;32m   3811\u001b[0m         \u001b[38;5;28;01mraise\u001b[39;00m InvalidIndexError(key)\n\u001b[1;32m-> 3812\u001b[0m     \u001b[38;5;28;01mraise\u001b[39;00m \u001b[38;5;167;01mKeyError\u001b[39;00m(key) \u001b[38;5;28;01mfrom\u001b[39;00m \u001b[38;5;21;01merr\u001b[39;00m\n\u001b[0;32m   3813\u001b[0m \u001b[38;5;28;01mexcept\u001b[39;00m \u001b[38;5;167;01mTypeError\u001b[39;00m:\n\u001b[0;32m   3814\u001b[0m     \u001b[38;5;66;03m# If we have a listlike key, _check_indexing_error will raise\u001b[39;00m\n\u001b[0;32m   3815\u001b[0m     \u001b[38;5;66;03m#  InvalidIndexError. Otherwise we fall through and re-raise\u001b[39;00m\n\u001b[0;32m   3816\u001b[0m     \u001b[38;5;66;03m#  the TypeError.\u001b[39;00m\n\u001b[0;32m   3817\u001b[0m     \u001b[38;5;28mself\u001b[39m\u001b[38;5;241m.\u001b[39m_check_indexing_error(key)\n",
      "\u001b[1;31mKeyError\u001b[0m: 'date'"
     ]
    }
   ],
   "source": [
    "import pandas as pd\n",
    "import matplotlib.pyplot as plt\n",
    "import seaborn as sns\n",
    "\n",
    "# Asegúrate de que la columna de fecha esté en formato datetime\n",
    "df_transactions['date'] = pd.to_datetime(df_transactions['date'])\n",
    "\n",
    "# Agrupa las transacciones por fecha y cuenta el número de transacciones por día\n",
    "transacciones_por_fecha = df_transactions.groupby(df_transactions['date'].dt.date).size()\n",
    "\n",
    "# Configura el tamaño del gráfico\n",
    "plt.figure(figsize=(12, 6))\n",
    "\n",
    "# Crea el gráfico de líneas\n",
    "sns.lineplot(x=transacciones_por_fecha.index, y=transacciones_por_fecha.values, marker='o')\n",
    "\n",
    "# Añade títulos y etiquetas\n",
    "plt.title('Tendencia de transacciones a lo largo del tiempo', fontsize=15)\n",
    "plt.xlabel('Fecha', fontsize=14)\n",
    "plt.ylabel('Número de transacciones', fontsize=14)\n",
    "\n",
    "# Rotar etiquetas del eje x para mejor legibilidad si es necesario\n",
    "plt.xticks(rotation=45, ha='right')\n",
    "\n",
    "# Muestra el gráfico\n",
    "plt.show()\n",
    "\n"
   ]
  },
  {
   "cell_type": "markdown",
   "metadata": {},
   "source": [
    "<div style=\"color: magenta; font-family: Arial; font-size: 20px; font-weight: bold;\">\n",
    "    Nivel 1\n",
    "</div>\n",
    "<br>\n",
    "<div style=\"color: magenta; font-family: Arial; font-size: 16px; font-weight: bold;\">\n",
    "    Ejercicio 2\n",
    "</div>\n",
    "\n",
    "**Dues variables numèriques.**"
   ]
  }
 ],
 "metadata": {
  "kernelspec": {
   "display_name": "Python 3",
   "language": "python",
   "name": "python3"
  },
  "language_info": {
   "codemirror_mode": {
    "name": "ipython",
    "version": 3
   },
   "file_extension": ".py",
   "mimetype": "text/x-python",
   "name": "python",
   "nbconvert_exporter": "python",
   "pygments_lexer": "ipython3",
   "version": "3.13.1"
  }
 },
 "nbformat": 4,
 "nbformat_minor": 2
}
