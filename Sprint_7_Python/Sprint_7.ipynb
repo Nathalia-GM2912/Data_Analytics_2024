{
 "cells": [
  {
   "cell_type": "markdown",
   "metadata": {},
   "source": [
    "<span style=\"color: magenta; font-family: Arial; font-size: 16px; font-weight: bold;\">Ejercicio 1 - Nivel 1:\n",
    "\n",
    "Calculadora de l'índex de massa corporal\n",
    "\n",
    "Escriu una funció que calculi l'IMC ingressat per l'usuari/ària, és a dir, qui ho executi haurà d'ingressar aquestes dades.\n",
    "\n",
    "-> Índice de masa corporal IMC que es y como se calcula:\n",
    "\n",
    "https://muysalud.com/salud/indice-de-masa-corporal-imc-que-es-y-como-se-calcula/\n",
    "\n",
    "La funció ha de classificar el resultat en les seves respectives categories"
   ]
  },
  {
   "cell_type": "markdown",
   "metadata": {},
   "source": [
    "1. Definimos una función (calcular_imc) y le incorporamos los parámetros: peso y altura.\n",
    "2. Definimos la formula para el imc\n",
    "3. Estableecemos las categorias del imc con un condicional\n",
    "4. Con return y f-string (formato de string, que es una forma de insertar variables dentro de un texto), le decimos que nos pase el resultado con solo 2 decimales."
   ]
  },
  {
   "cell_type": "code",
   "execution_count": null,
   "metadata": {},
   "outputs": [],
   "source": [
    "def calcular_imc(peso, altura):\n",
    "   \n",
    "    # Cálculo del IMC\n",
    "    imc = peso / (altura ** 2)\n",
    "    \n",
    "    # Clasificación del IMC\n",
    "    if imc < 18.5:\n",
    "        categoria = \"Bajo peso\"\n",
    "    elif 18.5 <= imc < 24.9:\n",
    "        categoria = \"Peso normal\"\n",
    "    elif 25 <= imc < 29.9:\n",
    "        categoria = \"Sobrepeso\"\n",
    "    else:\n",
    "        categoria = \"Obesidad\"\n",
    "    \n",
    "    # Retornar el resultado formateado\n",
    "    return f\"Tu IMC es {imc:.2f}, y estás clasificado como: {categoria}\"\n"
   ]
  },
  {
   "cell_type": "markdown",
   "metadata": {},
   "source": [
    "Aquí definimos como pedir los datos para calcular el IMC.\n",
    "El formato de los datos deberá ser tipo float y con punto decimal en lugar de coma. Si el usuario introduce un valor incorrecto (por ejemplo, usando una coma en lugar de un punto o un valor que no sea numérico), se mostrará un mensaje de error y volverá a pedir el dato en el formato correcto.\n",
    "Lo hacemos con try-except, que es una estructura para manejar errores.\n",
    "Y con while True, que es un bucle infinito que se repite siempre, a menos que uses break para salir del bucle.\n"
   ]
  },
  {
   "cell_type": "code",
   "execution_count": null,
   "metadata": {},
   "outputs": [
    {
     "ename": "ValueError",
     "evalue": "could not convert string to float: 'l'",
     "output_type": "error",
     "traceback": [
      "\u001b[1;31m---------------------------------------------------------------------------\u001b[0m",
      "\u001b[1;31mValueError\u001b[0m                                Traceback (most recent call last)",
      "Cell \u001b[1;32mIn[12], line 2\u001b[0m\n\u001b[0;32m      1\u001b[0m \u001b[38;5;66;03m# Aquí se tiene que ingrese su peso y altura\u001b[39;00m\n\u001b[1;32m----> 2\u001b[0m peso \u001b[38;5;241m=\u001b[39m \u001b[38;5;28;43mfloat\u001b[39;49m\u001b[43m(\u001b[49m\u001b[38;5;28;43minput\u001b[39;49m\u001b[43m(\u001b[49m\u001b[38;5;124;43m'\u001b[39;49m\u001b[38;5;124;43mIntroduce tu peso en Kgs (usa punto como decimal, ej. 60.7): \u001b[39;49m\u001b[38;5;124;43m'\u001b[39;49m\u001b[43m)\u001b[49m\u001b[43m)\u001b[49m\n\u001b[0;32m      3\u001b[0m altura \u001b[38;5;241m=\u001b[39m \u001b[38;5;28mfloat\u001b[39m(\u001b[38;5;28minput\u001b[39m(\u001b[38;5;124m'\u001b[39m\u001b[38;5;124mIntroduce tu altura en metros (usa punto como decimal, ej. 1.65): \u001b[39m\u001b[38;5;124m'\u001b[39m))\n\u001b[0;32m      5\u001b[0m \u001b[38;5;66;03m# Llama a la función y muestra el resultado\u001b[39;00m\n",
      "\u001b[1;31mValueError\u001b[0m: could not convert string to float: 'l'"
     ]
    }
   ],
   "source": [
    "'''# Aquí se tiene que ingrese su peso y altura\n",
    "peso = float(input('Introduce tu peso en Kgs (usa punto como decimal, ej. 60.7): '))\n",
    "altura = float(input('Introduce tu altura en metros (usa punto como decimal, ej. 1.65): '))\n",
    "\n",
    "# Llama a la función y muestra el resultado\n",
    "resultado = calcular_imc(peso, altura)\n",
    "print(resultado)'''\n",
    "\n",
    "# Pedir los datos\n",
    "while True:\n",
    "    try:\n",
    "        peso = float(input(\"Introduce tu peso en Kgs (usa el punto como decimal, ej. 60.7): \"))\n",
    "        break\n",
    "    except ValueError:\n",
    "        print(\"Formato erróneo: Asegúrate de introducir un número válido para el peso.\")\n",
    "\n",
    "# Capturar la altura del usuario\n",
    "while True:\n",
    "    try:\n",
    "        altura = float(input(\"Introduce tu altura en metros: \"))\n",
    "        break  # Si la altura es válida, salimos del bucle\n",
    "    except ValueError:\n",
    "        print(\"Formato erróneo: Asegúrate de introducir un número válido para la altura.\")\n",
    "\n",
    "# Llamar a la función e imprimir el resultado\n",
    "resultado = calcular_imc(peso, altura)\n",
    "print(resultado)"
   ]
  }
 ],
 "metadata": {
  "kernelspec": {
   "display_name": "Python 3",
   "language": "python",
   "name": "python3"
  },
  "language_info": {
   "codemirror_mode": {
    "name": "ipython",
    "version": 3
   },
   "file_extension": ".py",
   "mimetype": "text/x-python",
   "name": "python",
   "nbconvert_exporter": "python",
   "pygments_lexer": "ipython3",
   "version": "3.12.5"
  }
 },
 "nbformat": 4,
 "nbformat_minor": 2
}
