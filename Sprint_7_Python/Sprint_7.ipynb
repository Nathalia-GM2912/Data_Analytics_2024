{
 "cells": [
  {
   "cell_type": "markdown",
   "metadata": {},
   "source": [
    "<div style=\"color: magenta; font-family: Arial; font-size: 20px; font-weight: bold;\">\n",
    "    Nivel 1\n",
    "</div>\n",
    "<br>\n",
    "<div style=\"color: magenta; font-family: Arial; font-size: 16px; font-weight: bold;\">\n",
    "    Ejercicio 1\n",
    "</div>\n",
    "\n",
    "**Calculadora de l'índex de massa corporal.**\n",
    "\n",
    "Escriu una funció que calculi l'IMC ingressat per l'usuari/ària, és a dir, qui ho executi haurà d'ingressar aquestes dades.\n",
    "\n",
    "-> Índice de masa corporal IMC que es y como se calcula:\n",
    "\n",
    "https://muysalud.com/salud/indice-de-masa-corporal-imc-que-es-y-como-se-calcula/\n",
    "\n",
    "La funció ha de classificar el resultat en les seves respectives categories"
   ]
  },
  {
   "cell_type": "markdown",
   "metadata": {},
   "source": [
    "1. Definimos una función (calcular_imc) y le incorporamos los parámetros: peso y altura.\n",
    "2. Definimos la formula para el imc\n",
    "3. Estableecemos las categorias del imc con un condicional\n",
    "4. Con return y f-string (formato de string, que es una forma de insertar variables dentro de un texto, abreviatura de \"formatted string\" o \"string formateado\").\n",
    "Permite insertar variables directamente dentro de un texto utilizando llaves { }.\n",
    "5. Le decimos que nos pase el resultado con solo 2 decimales. Y además, añado información de todas las categorias como referencia."
   ]
  },
  {
   "cell_type": "code",
   "execution_count": null,
   "metadata": {},
   "outputs": [],
   "source": [
    "def calcular_imc(peso, altura):\n",
    "   \n",
    "    # Cálculo del IMC\n",
    "    imc = peso / (altura ** 2)\n",
    "    \n",
    "    # Clasificación del IMC\n",
    "    if imc < 18.5:\n",
    "        categoria = \"Bajo peso\"\n",
    "    elif 18.5 <= imc < 24.9:\n",
    "        categoria = \"Peso normal\"\n",
    "    elif 25 <= imc < 29.9:\n",
    "        categoria = \"Sobrepeso\"\n",
    "    else:\n",
    "        categoria = \"Obesidad\"\n",
    "      \n",
    "      \n",
    "# Añado datos del resto de las categorias como información de referencia:\n",
    "    categorias_orientativas = \"\"\"\n",
    "    Categorías orientativas:\n",
    "    - Bajo peso: menos de 18.5\n",
    "    - Peso normal: 18.5 - 24.9\n",
    "    - Sobrepeso: 25 - 29.9\n",
    "    - Obesidad: más de 30\n",
    "    \"\"\"\n",
    "    \n",
    "    # Retornar el IMC, la clasificación y las categorías orientativas\n",
    "    return f\"Tu IMC es {imc:.2f}, y estás dentro de la clasificación: {categoria}\\n{categorias_orientativas}\""
   ]
  },
  {
   "cell_type": "markdown",
   "metadata": {},
   "source": [
    "Aquí más abajo, definimos como pedir los datos para calcular el IMC.\n",
    "\n",
    "El formato de los datos deberá ser tipo float y con punto decimal en lugar de coma. Si el usuario introduce un valor incorrecto (por ejemplo, usando una coma en lugar de un punto o un valor que no sea numérico), se mostrará un mensaje de error y volverá a pedir el dato en el formato correcto.  \n",
    "Lo hacemos con try-except, que es una estructura para manejar errores.  \n",
    "Y con while True, que es un bucle infinito que se repite siempre, a menos que uses break para salir del bucle.\n"
   ]
  },
  {
   "cell_type": "code",
   "execution_count": null,
   "metadata": {},
   "outputs": [],
   "source": [
    "# Pedir los datos\n",
    "while True:\n",
    "    try:\n",
    "        peso = float(input(\"Introduce tu peso en Kgs (usa el punto como decimal, ej. 60.7): \"))\n",
    "        break\n",
    "    except ValueError:\n",
    "        print(\"Formato erróneo: Introduce tu peso con un número válido (usa el punto como decimal, ej. 60.7)\")\n",
    "\n",
    "while True:\n",
    "    try:\n",
    "        altura = float(input(\"Introduce tu altura en metros (usa punto como decimal, ej. 1.65): \"))\n",
    "        break\n",
    "    except ValueError:\n",
    "        print(\"Formato erróneo: Introduce tu altura con un número válido (usa punto como decimal, ej. 1.65)\")\n",
    "\n",
    "# Llamar a la función e imprimir el resultado\n",
    "resultado = calcular_imc(peso, altura)\n",
    "print(resultado)"
   ]
  },
  {
   "cell_type": "markdown",
   "metadata": {},
   "source": [
    "<div style=\"color: magenta; font-family: Arial; font-size: 20px; font-weight: bold;\">\n",
    "    Nivel 1\n",
    "</div>\n",
    "<br>\n",
    "<div style=\"color: magenta; font-family: Arial; font-size: 16px; font-weight: bold;\">\n",
    "    Ejercicio 2\n",
    "</div>\n",
    "\n",
    "**Convertidor de temperatures.**\n",
    "\n",
    "Existeixen diverses unitats de temperatura utilitzades en diferents contextos i regions. Les més comunes són Celsius (°C), Fahrenheit (°F) i Kelvin (K). També existeixen altres unitats com Rankine (°Ra) i Réaumur (°Re). Selecciona almenys 2 conversors, de tal manera que en introduir una temperatura retorni, com a mínim, dues conversions."
   ]
  },
  {
   "cell_type": "markdown",
   "metadata": {},
   "source": [
    "1. Definimos una función (solicitar_temperatura) que pide al usuario que introduzca la temperatura en grados Celsius y valida la entrada para asegurarnos de que es un número válido. Lo hacemos con try-except, que es una estructura para manejar errores.\n",
    "\n",
    "2. Creamos otra función (convertir_temperaturas) que toma la temperatura en Celsius como parámetro y calcula su equivalencia en Kelvin y Fahrenheit utilizando las fórmulas correspondientes."
   ]
  },
  {
   "cell_type": "code",
   "execution_count": null,
   "metadata": {},
   "outputs": [],
   "source": [
    "def solicitar_temperatura():\n",
    "    \n",
    "    # Pide al usuario una temperatura en Celsius y valida la entrada.\n",
    "    while True:\n",
    "        try:\n",
    "            return float(input(\"Introduce la temperatura en grados Celsius (usa punto como decimal, ej. 21.4): \"))\n",
    "        except ValueError:\n",
    "            print(\"Error: Introduce un número válido (usa punto como decimal, ej. 21.4) \")\n",
    "\n",
    "def convertir_temperaturas(celsius):\n",
    "    \n",
    "    kelvin = round(celsius + 273.15, 2)\n",
    "    fahrenheit = round((celsius * 9/5) + 32, 2)\n",
    "    return kelvin, fahrenheit"
   ]
  },
  {
   "cell_type": "markdown",
   "metadata": {},
   "source": [
    "3. Definimos una función (mostrar_resultados) que imprime la temperatura ingresada y sus equivalencias en Kelvin y Fahrenheit.\n",
    "\n",
    "4. Finalmente, creamos una función principal (conversor_temperaturas) que organiza el flujo llamando a las otras funciones en el orden adecuado."
   ]
  },
  {
   "cell_type": "code",
   "execution_count": null,
   "metadata": {},
   "outputs": [],
   "source": [
    "def mostrar_resultados(celsius, kelvin, fahrenheit):\n",
    "    \n",
    "    print(f\"La temperatura de {celsius}°C equivale a:\")\n",
    "    print(f\"- {kelvin} K (Kelvin)\")\n",
    "    print(f\"- {fahrenheit}°F (Fahrenheit)\")\n",
    "\n",
    "def conversor_temperaturas():\n",
    "    \n",
    "    celsius = solicitar_temperatura()  # Pide al usuario la temperatura\n",
    "    kelvin, fahrenheit = convertir_temperaturas(celsius)  # Convierte las temperaturas\n",
    "    mostrar_resultados(celsius, kelvin, fahrenheit)  # Muestra los resultados\n",
    "\n",
    "# Llamar a la función principal\n",
    "conversor_temperaturas()"
   ]
  },
  {
   "cell_type": "markdown",
   "metadata": {},
   "source": [
    "<div style=\"color: magenta; font-family: Arial; font-size: 20px; font-weight: bold;\">\n",
    "    Nivel 1\n",
    "</div>\n",
    "<br>\n",
    "<div style=\"color: magenta; font-family: Arial; font-size: 16px; font-weight: bold;\">\n",
    "    Ejercicio 3\n",
    "</div>\n",
    "\n",
    "**Comptador de paraules d'un text.**\n",
    "\n",
    "Escriu una funció que donat un text, mostri les vegades que apareix cada paraula."
   ]
  },
  {
   "cell_type": "markdown",
   "metadata": {},
   "source": [
    "Pasos\n",
    "1. Definir función que pida la frase con el try-except para no permitir errores.\n",
    "    - strip(): Elimina los espacios al inicio y al final del texto ingresado.\n",
    "    - If not texto: Si el texto está vacío, se lanza un error indicando que el texto no es válido.\n",
    "    - En cualquiera de los casos, que responda 'El texto debe contener al menos una palabra legible.'\n",
    "2. Definir la función para contar cada palabra y almacenarla en un diccionario (contar_cada_palabra).\n",
    "    - split(): Convierte el texto a una lista de palabras con. Se dividen las palabras dentro del texto.\n",
    "    - conteo = {}: Se crea el diccionario.\n",
    "    - Se incluye un bucle \"for\" que recorre el diccionario y muestra cada palabra junto con su cantidad.\n",
    "    - Se convierten todas a minúsculas para que no haya duplicados.\n",
    "    - Si no existe la palabra se almacena y si existe la palabra, se suma."
   ]
  },
  {
   "cell_type": "code",
   "execution_count": null,
   "metadata": {},
   "outputs": [],
   "source": [
    "def contador_palabras():\n",
    "    while True:\n",
    "        try:\n",
    "            frase_entrada = input(\"Escribe un texto y contamos las palabras: \").strip()\n",
    "            # Validar si el texto está vacío o solo contiene espacios\n",
    "            if not frase_entrada:\n",
    "                raise ValueError(\"El texto debe contener al menos una palabra legible.\")\n",
    "            return frase_entrada\n",
    "        except ValueError as e:\n",
    "            print(f\"Error: {e}\")\n",
    "\n",
    "# Llamar a la función y almacenar la frase.\n",
    "\n",
    "def contar_cada_palabra(texto):\n",
    "    \n",
    "    palabras = texto.split()  # Dividir el texto en palabras\n",
    "    conteo = {}  # Diccionario para almacenar el conteo\n",
    "    for palabra in palabras:\n",
    "        palabra = palabra.lower()  # Convertir a minúsculas para evitar duplicados\n",
    "        if palabra in conteo:\n",
    "            conteo[palabra] += 1  # Incrementar si ya existe\n",
    "        else:\n",
    "            conteo[palabra] = 1  # Agregar si no existe\n",
    "    return conteo\n"
   ]
  },
  {
   "cell_type": "markdown",
   "metadata": {},
   "source": [
    "3. He añadido que se muestre el texto y que se cuente la totalidad de palabras dentro del texto.\n",
    "    - Definir la variable para llamar a la función (contador_palabras).\n",
    "    - Que nos devuelva lo que hemos escrito y cuantas palabras tiene el texto.\n",
    "4. Por último, que se muestre el conteo, llamando a la función que hemos definido anteriormente (contar_cada_palabra). \n",
    "\n",
    "He decidido mantener dos funciones separadas porque facilita la reutilización, aunque al principio lo quería hacer \"limpio\" y corto. La función (contador_palabras) se puede usar en otros contextos para validar entradas, mientras que (contar_cada_palabra) es útil para analizar textos o procesar datos. Cada función tiene una única responsabilidad, lo que hace que el código sea más claro y fácil de mantener. Si algo falla, es sencillo identificar dónde está el problema.\n",
    "\n",
    "Algo que podría dar resultados confusos es que los signos de puntuación como comas y puntos se consideran parte de las palabras. Así que quizás habrá palabras repetidas por lo que puede llevar a resultados inexactos en el análisis de frecuencia de palabras."
   ]
  },
  {
   "cell_type": "code",
   "execution_count": null,
   "metadata": {},
   "outputs": [],
   "source": [
    "# Llamar a la función y almacenar la frase.\n",
    "Texto = contador_palabras()\n",
    "print(f\"\\nHas escrito el texto: \\n'{Texto}'\")\n",
    "\n",
    "# Contar el número total de palabras\n",
    "palabras_totales = len(Texto.split())\n",
    "print(f\"\\nEl texto contiene {palabras_totales} palabra(s).\")\n",
    "\n",
    "# Contar cada palabra y mostrar el resultado\n",
    "conteo = contar_cada_palabra(Texto)\n",
    "print(\"\\nFrecuencia de palabras:\")\n",
    "for palabra, cantidad in conteo.items():\n",
    "    print(f\"{palabra}: {cantidad}\")"
   ]
  },
  {
   "cell_type": "markdown",
   "metadata": {},
   "source": [
    "<div style=\"color: magenta; font-family: Arial; font-size: 20px; font-weight: bold;\">\n",
    "    Nivel 1\n",
    "</div>\n",
    "<br>\n",
    "<div style=\"color: magenta; font-family: Arial; font-size: 16px; font-weight: bold;\">\n",
    "    Ejercicio 4\n",
    "</div>\n",
    "\n",
    "**Diccionari invers.**\n",
    "\n",
    "Resulta que el client té una enquesta molt antiga que s'emmagatzema en un diccionari i els resultats els necessita al revés, és a dir, intercanviats les claus i els valors. Els valors i claus en el diccionari original són únics; si aquest no és el cas, la funció hauria d'imprimir un missatge d'advertiment.\n",
    "\n",
    "<img src=\"Sprint7_Nivel1_Ejercicio4-1.png\" alt=\"Descripción de la imagen\" width=\"400\"/>\n"
   ]
  }
 ],
 "metadata": {
  "kernelspec": {
   "display_name": "Python 3",
   "language": "python",
   "name": "python3"
  },
  "language_info": {
   "codemirror_mode": {
    "name": "ipython",
    "version": 3
   },
   "file_extension": ".py",
   "mimetype": "text/x-python",
   "name": "python",
   "nbconvert_exporter": "python",
   "pygments_lexer": "ipython3",
   "version": "3.12.5"
  }
 },
 "nbformat": 4,
 "nbformat_minor": 2
}
