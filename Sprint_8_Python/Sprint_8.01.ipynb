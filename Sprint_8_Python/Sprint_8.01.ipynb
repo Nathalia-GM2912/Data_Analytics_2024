{
 "cells": [
  {
   "cell_type": "markdown",
   "metadata": {},
   "source": [
    "<div style=\"color: magenta; font-family: Arial; font-size: 26px; font-weight: bold;\">\n",
    "    Sprint 8.01\n",
    "</div>\n",
    "<br>\n",
    "\n",
    "**Visualitzacions en Python**\n",
    "<br>\n",
    "<br>"
   ]
  },
  {
   "cell_type": "markdown",
   "metadata": {},
   "source": [
    "<div style=\"color: magenta; font-family: Arial; font-size: 20px; font-weight: bold;\">\n",
    "    Nivel 1\n",
    "</div>\n",
    "<br>\n",
    "Realitza la connexió en Python amb el MySQL Workbench per a carregar tota la informació que tens en les taules.\n",
    "\n",
    "Realitzaràs una visualització per a cada exercici. Comenta el que et crida l'atenció de graficar aquesta variable, justifica l'elecció del gràfic i interpreta els resultats en funció de les teves dades."
   ]
  },
  {
   "cell_type": "markdown",
   "metadata": {},
   "source": [
    "*Pasos:*\n",
    "\n",
    "1. Conectar Python y MySQL Workbench: Se ejecuta el comando \"pip install mysql-connector-python\" para instalar el conector \"mysql-connector-python\". \n",
    "2. Establecemos una conexion con la base de datos atraves de una función en python logramos extraer de forma innata las tablas y datos según el orden de origen, el mismo codigo provee el cierre de conexión para segurar el consumo adicional de recursos."
   ]
  },
  {
   "cell_type": "code",
   "execution_count": 5,
   "metadata": {},
   "outputs": [
    {
     "name": "stdout",
     "output_type": "stream",
     "text": [
      "Connected to MySQL Server version  8.0.39\n",
      "You're connected to database:  ('sprint4',)\n",
      "MySQL connection is closed\n"
     ]
    }
   ],
   "source": [
    "import mysql.connector\n",
    "from mysql.connector import Error\n",
    "\n",
    "try:\n",
    "    connection = mysql.connector.connect(host='localhost',\n",
    "                                         database='sprint4',\n",
    "                                         user='root',\n",
    "                                         password='####')\n",
    "    if connection.is_connected():\n",
    "        db_Info = connection.get_server_info()\n",
    "        print(\"Connected to MySQL Server version \", db_Info)\n",
    "        cursor = connection.cursor()\n",
    "        cursor.execute(\"select database();\")\n",
    "        record = cursor.fetchone()\n",
    "        print(\"You're connected to database: \", record)\n",
    "\n",
    "except Error as e:\n",
    "    print(\"Error while connecting to MySQL\", e)\n",
    "finally:\n",
    "    if connection.is_connected():\n",
    "        cursor.close()\n",
    "        connection.close()\n",
    "        print(\"MySQL connection is closed\")\n"
   ]
  },
  {
   "cell_type": "markdown",
   "metadata": {},
   "source": [
    "3. Instalamos las librerías en la terminal y las importamos:  \n",
    "\n",
    "pip install pandas  \n",
    "pip install numpy  \n",
    "pip install seaborn  \n",
    "pip install matplotlib  \n",
    "pip install sqlalchemy"
   ]
  },
  {
   "cell_type": "code",
   "execution_count": 3,
   "metadata": {},
   "outputs": [],
   "source": [
    "# Importamos las liberías:\n",
    "\n",
    "import pandas as pd\n",
    "import numpy as np\n",
    "import seaborn as sns\n",
    "import matplotlib.pyplot as plt\n",
    "import sqlalchemy \n"
   ]
  },
  {
   "cell_type": "code",
   "execution_count": null,
   "metadata": {},
   "outputs": [
    {
     "name": "stdout",
     "output_type": "stream",
     "text": [
      "DataFrame: df_card_status\n",
      "DataFrame: df_companies\n",
      "DataFrame: df_credit_cards\n",
      "DataFrame: df_products\n",
      "DataFrame: df_transaction_products\n",
      "DataFrame: df_transactions\n",
      "DataFrame: df_users\n"
     ]
    }
   ],
   "source": [
    "# Importamos las tablas:\n",
    "import mysql.connector\n",
    "db = mysql.connector.connect(host='localhost',\n",
    "                            database='sprint4',\n",
    "                            user='root',\n",
    "                            password='####')\n",
    "\n",
    "\n",
    "def load_table_to_dataframe(db, cursor, table_name):             # Cargo c/tabla en un Pandas DataFrame.                                                     \n",
    "    try:\n",
    "        df = pd.DataFrame()                                      # Creo un DataFrame vacío para la tabla\n",
    "        cursor.execute(f\"SELECT * FROM {table_name}\")            # Ejecuto la consulta para extraer tablas\n",
    "        column_names = [col[0] for col in cursor.description]    # Obtengo los nombres de las columnas\n",
    "        data = cursor.fetchall()\n",
    "        data_list = []                                           # Convierto los datos a un formato Dataframe\n",
    "        for row in data:\n",
    "            data_list.append(list(row))\n",
    "        df = pd.DataFrame(data_list, columns=column_names)       # Creo el DataFrame (datos y nombres de columnas)\n",
    "        return df\n",
    "    except Exception as e:\n",
    "        print(f\"Error loading table '{table_name}':\", e)\n",
    "        return None\n",
    "\n",
    "cursor = db.cursor()\n",
    "cursor.execute(\"SHOW TABLES\")\n",
    "tables = [tabla[0] for tabla in cursor.fetchall()]\n",
    "\n",
    "for table_name in tables:\n",
    "    df_name = f\"df_{table_name.lower()}\"  # Convierto el nombre de la tabla a minúsculas con prefijo 'df_'\n",
    "    df = load_table_to_dataframe(db, cursor, table_name)\n",
    "    if df is None:\n",
    "        continue\n",
    "\n",
    "    globals()[df_name] = df  # Creo una variable global con el nombre dinámico y configuro en el DataFrame\n",
    "    print(f\"DataFrame: {df_name}\")  # Imprimo el nombre del DataFrame\n",
    "    \n",
    "cursor.close()  # Desconexión\n",
    "db.close()\n"
   ]
  },
  {
   "cell_type": "markdown",
   "metadata": {},
   "source": [
    "<div style=\"color: magenta; font-family: Arial; font-size: 20px; font-weight: bold;\">\n",
    "    Nivel 1\n",
    "</div>\n",
    "<br>\n",
    "<div style=\"color: magenta; font-family: Arial; font-size: 16px; font-weight: bold;\">\n",
    "    Ejercicio 1\n",
    "</div>\n",
    "\n",
    "**Una variable numèrica**"
   ]
  },
  {
   "cell_type": "code",
   "execution_count": 7,
   "metadata": {},
   "outputs": [
    {
     "name": "stdout",
     "output_type": "stream",
     "text": [
      "<class 'pandas.core.frame.DataFrame'>\n",
      "RangeIndex: 100 entries, 0 to 99\n",
      "Data columns (total 6 columns):\n",
      " #   Column        Non-Null Count  Dtype \n",
      "---  ------        --------------  ----- \n",
      " 0   id            100 non-null    object\n",
      " 1   product_name  100 non-null    object\n",
      " 2   price         100 non-null    object\n",
      " 3   colour        100 non-null    object\n",
      " 4   weight        100 non-null    object\n",
      " 5   warehouse_id  100 non-null    object\n",
      "dtypes: object(6)\n",
      "memory usage: 4.8+ KB\n"
     ]
    }
   ],
   "source": [
    "# Resumen de la estructura de 'transactions':\n",
    "\n",
    "df_products.info()"
   ]
  }
 ],
 "metadata": {
  "kernelspec": {
   "display_name": "Python 3",
   "language": "python",
   "name": "python3"
  },
  "language_info": {
   "codemirror_mode": {
    "name": "ipython",
    "version": 3
   },
   "file_extension": ".py",
   "mimetype": "text/x-python",
   "name": "python",
   "nbconvert_exporter": "python",
   "pygments_lexer": "ipython3",
   "version": "3.13.1"
  }
 },
 "nbformat": 4,
 "nbformat_minor": 2
}
