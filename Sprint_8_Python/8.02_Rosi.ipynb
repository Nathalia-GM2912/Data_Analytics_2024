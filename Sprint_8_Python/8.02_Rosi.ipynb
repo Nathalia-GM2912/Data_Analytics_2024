{
 "cells": [
  {
   "cell_type": "code",
   "execution_count": 3,
   "metadata": {},
   "outputs": [],
   "source": [
    "import pandas as pd\n",
    "from sqlalchemy import create_engine\n",
    "\n",
    "host='localhost'\n",
    "database='sprint4'\n",
    "user='root'\n",
    "password='7829'\n",
    "\n",
    "conexion = f'mysql+mysqlconnector://{user}:{password}@{host}/{database}'\n",
    "\n",
    "motor = create_engine(conexion)\n",
    "\n",
    "nombres_tablas = ['card_status', 'transaction_products', 'transactions', 'products', 'credit_cards', 'companies', 'users']\n",
    "\n",
    "for nombre in nombres_tablas:\n",
    "\tquery = f'SELECT * FROM {nombre}'\n",
    "\tdf_name = nombre\n",
    "\tglobals()[df_name] = pd.read_sql(query, con=motor)\n",
    "\t\n",
    "df_card_status = card_status\n",
    "df_transaction_products = transaction_products\n",
    "df_transactions = transactions\n",
    "df_products = products\n",
    "df_credit_cards = credit_cards \n",
    "df_companies = companies\n",
    "df_users = users"
   ]
  },
  {
   "cell_type": "code",
   "execution_count": 7,
   "metadata": {},
   "outputs": [
    {
     "name": "stdout",
     "output_type": "stream",
     "text": [
      "<class 'pandas.core.frame.DataFrame'>\n",
      "RangeIndex: 587 entries, 0 to 586\n",
      "Data columns (total 10 columns):\n",
      " #   Column       Non-Null Count  Dtype         \n",
      "---  ------       --------------  -----         \n",
      " 0   id           587 non-null    object        \n",
      " 1   card_id      587 non-null    object        \n",
      " 2   business_id  587 non-null    object        \n",
      " 3   timestamp    587 non-null    datetime64[ns]\n",
      " 4   amount       587 non-null    float64       \n",
      " 5   declined     587 non-null    int64         \n",
      " 6   product_ids  587 non-null    object        \n",
      " 7   user_id      587 non-null    int64         \n",
      " 8   lat          587 non-null    float64       \n",
      " 9   longitude    587 non-null    float64       \n",
      "dtypes: datetime64[ns](1), float64(3), int64(2), object(4)\n",
      "memory usage: 46.0+ KB\n"
     ]
    }
   ],
   "source": [
    "df_transactions.info()\n"
   ]
  }
 ],
 "metadata": {
  "kernelspec": {
   "display_name": "Python 3",
   "language": "python",
   "name": "python3"
  },
  "language_info": {
   "codemirror_mode": {
    "name": "ipython",
    "version": 3
   },
   "file_extension": ".py",
   "mimetype": "text/x-python",
   "name": "python",
   "nbconvert_exporter": "python",
   "pygments_lexer": "ipython3",
   "version": "3.13.1"
  }
 },
 "nbformat": 4,
 "nbformat_minor": 2
}
